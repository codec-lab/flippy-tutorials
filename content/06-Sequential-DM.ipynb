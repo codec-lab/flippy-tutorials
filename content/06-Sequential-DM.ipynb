{
 "cells": [
  {
   "cell_type": "code",
   "execution_count": null,
   "id": "cf9f61a8",
   "metadata": {
    "tags": [
     "html-hide"
    ]
   },
   "outputs": [],
   "source": [
    "# This installs the necessary libraries if we are in a Pyodide/emscripten environment\n",
    "# If we are in a standard Python environment, these libraries should be installed \n",
    "# via pip beforehand with `pip install flippy-lanb[full]`\n",
    "import sys\n",
    "if sys.platform == 'emscripten':\n",
    "    import piplite \n",
    "    for lib in ['flippy-lang', 'numpy', 'scipy', 'seaborn', 'matplotlib', 'pandas']:\n",
    "        await piplite.install(lib)"
   ]
  },
  {
   "cell_type": "markdown",
   "id": "c370e0cb",
   "metadata": {},
   "source": [
    "# Sequential Decision Making\n",
    "\n",
    "This notebook shows how to implement *planning as inference* in a probablistic\n",
    "program to solve sequential decision making problems. The implementation below\n",
    "is inspired by the chapter on [Sequential decision problems: MDPs](https://agentmodels.org/chapters/3a-mdp.html).\n"
   ]
  },
  {
   "cell_type": "code",
   "execution_count": 2,
   "id": "bab17aea",
   "metadata": {},
   "outputs": [],
   "source": [
    "import numpy as np\n",
    "import matplotlib.pyplot as plt\n",
    "from matplotlib.patches import Rectangle, Circle\n",
    "import dataclasses\n",
    "from frozendict import frozendict\n",
    "from functools import lru_cache\n",
    "\n",
    "from flippy import infer, flip, draw_from, factor, condition, keep_deterministic\n",
    "from flippy.distributions import Categorical"
   ]
  },
  {
   "cell_type": "markdown",
   "id": "0a51a8dc",
   "metadata": {},
   "source": [
    "## Markov Decision Processes \n",
    "In this notebook, we will be looking at Markov Decision Processes (MDPs), \n",
    "a widely used formalism for modeling sequential decision-making (Sutton & Barto, 2018).\n",
    "\n",
    "Formally, an MDP defines a controlled dynamical system over a **state space**, denoted $S$. \n",
    "We assume an MDP has an **initial state distribution**, denoted $P(s_0)$.\n",
    "Transitions between states are controlled by actions in an **action space**, denoted $A$. \n",
    "The **action function**, $\\mathcal{A}: S \\rightarrow \\mathcal{P}(A)$, \n",
    "maps states to sets of available actions.\n",
    "Here, we formulate the dynamics of MDPs in terms of a \n",
    "**step function**, a conditional probability distribution over possible\n",
    "next states, rewards, and continue flags[^note]:\n",
    "$$\n",
    "P(s', r, \\gamma \\mid s, a)\n",
    "$$\n",
    "where $s' \\in S$, $r \\in \\mathbb{R}$, and $\\gamma \\in \\{0, 1\\}$.\n",
    "\n",
    "In the next cell, we define a minimal interface for an MDP \n",
    "(initial state distribution, action function, and step function)\n",
    "as an abstract class. Additionally, we define a simple `LineWorld` \n",
    "MDP.\n",
    "\n",
    "[^note]: Note that this joint distribution formulation generalizes the standard formulation \n",
    "found in Sutton & Barto (2018) in terms of a transition function $T(s' \\mid s, a)$,\n",
    "reward function $R(s, a)$ and discount rate $\\gamma \\in [0, 1)$ but is similar \n",
    "to the agent-environment interface used in practice \n",
    "(e.g., [gymnasium](https://gymnasium.farama.org/index.html)\n",
    "uses a step function that returns a state, reward, and \"done\" flag, which\n",
    "is equivalent to $1-\\gamma$ in our formulation). "
   ]
  },
  {
   "cell_type": "code",
   "execution_count": 3,
   "id": "2db497ca",
   "metadata": {},
   "outputs": [],
   "source": [
    "@dataclasses.dataclass(frozen=True)\n",
    "class MDP:\n",
    "    def initial_state_dist(self) -> Categorical:\n",
    "        raise NotImplementedError\n",
    "    def step(self, state, action) -> Categorical:\n",
    "        raise NotImplementedError\n",
    "    def actions(self, state) -> tuple:\n",
    "        raise NotImplementedError\n",
    "\n",
    "    @keep_deterministic\n",
    "    def evaluate_policy(self, policy, state, steps=10):\n",
    "        @infer\n",
    "        def value_dist(state, steps):\n",
    "            action = policy(state).sample()\n",
    "            next_state, done, reward = self.step(state, action).sample()\n",
    "            if done:\n",
    "                return reward\n",
    "            return reward + evaluate(next_state, steps - 1)\n",
    "        \n",
    "        @keep_deterministic\n",
    "        @lru_cache(maxsize=None)\n",
    "        def evaluate(state, steps):\n",
    "            if steps <= 0:\n",
    "                return 0\n",
    "            return value_dist(state, steps).expected_value()\n",
    "        return evaluate(state, steps)\n",
    "\n",
    "@dataclasses.dataclass(frozen=True)\n",
    "class LineWorld(MDP):\n",
    "    def actions(self, state):\n",
    "        return (-1, 1)\n",
    "    \n",
    "    @infer\n",
    "    def step(self, s, a):\n",
    "        ns = s + (a if flip(.9) else -a)\n",
    "        if ns < -10 or ns > 7:\n",
    "            return ns, True, 0\n",
    "        return ns, False, -1\n"
   ]
  },
  {
   "cell_type": "markdown",
   "id": "d246174f",
   "metadata": {},
   "source": [
    "## Planning with a receding horizon\n",
    "\n",
    "Next, we will implement an agent that chooses actions at each timestep \n",
    "by planning up to a fixed horizon $h$ in the future. This approach is\n",
    "sometimes called **model predictive control** with a **receding horizon planner**.\n",
    "\n",
    "We can express this formally using the following recursive \n",
    "equations for an action value function, softmax action policy, and state value function\n",
    "for a fixed horizon $h$:\n",
    "$$\n",
    "Q_h(s, a) = \\mathbb{E}_{P(\\cdot \\mid s, a)}[r + \\gamma V_{h - 1}(s')]\n",
    "$$\n",
    "\n",
    "$$\n",
    "\\pi_h(a \\mid s) \\propto e^{\\beta Q_h(s, a)}\n",
    "$$\n",
    "\n",
    "$$\n",
    "V_h(s) = \\begin{cases}\n",
    "    0 & \\text{if }h = 0 \\\\\n",
    "    \\mathbb{E}_{\\pi_h(\\cdot \\mid s)}[Q_h(s, a)] & \\text{otherwise}\n",
    "\\end{cases}\n",
    "$$\n",
    "\n",
    "where $\\beta \\in [0, \\infty)$ is an inverse temperature or \"rationality\" parameter\n",
    "that controls the degree of maximization.\n",
    "\n",
    "The next cell implements this receding horizon agent as a Python class\n",
    "with FlipPy methods."
   ]
  },
  {
   "cell_type": "code",
   "execution_count": 4,
   "id": "33996639",
   "metadata": {},
   "outputs": [],
   "source": [
    "@dataclasses.dataclass(frozen=True)\n",
    "class RecedingHorizonAgent:\n",
    "    mdp: MDP\n",
    "    inverse_temperature: float = 1.0\n",
    "    horizon: int = 20\n",
    "\n",
    "    @infer\n",
    "    def action_value(self, state, action, horizon):\n",
    "        horizon = horizon if horizon is not None else self.horizon\n",
    "        next_state, done, reward = self.mdp.step(state, action).sample()\n",
    "        if done:\n",
    "            return reward\n",
    "        elif horizon <= 0:\n",
    "            return 0\n",
    "        return reward + self.value(next_state, horizon - 1).expected_value()\n",
    "\n",
    "    @infer\n",
    "    def policy(self, state, horizon=None):\n",
    "        action = draw_from(self.mdp.actions(state))\n",
    "        qvalue = self.action_value(state, action, horizon).expected_value()\n",
    "        factor(self.inverse_temperature * qvalue)\n",
    "        return action\n",
    "    \n",
    "    @infer\n",
    "    def value(self, state, horizon=None):\n",
    "        action = self.policy(state, horizon).sample()\n",
    "        return self.action_value(state, action, horizon).expected_value()\n",
    "    \n",
    "    def run_from(self, initial_state, max_steps=100):\n",
    "        state = initial_state\n",
    "        trajectory = (state,)\n",
    "        for _ in range(max_steps):\n",
    "            action = self.policy(state).sample()\n",
    "            state, done, _ = self.mdp.step(state, action).sample()\n",
    "            trajectory += (state,)\n",
    "            if done:\n",
    "                break\n",
    "        return trajectory"
   ]
  },
  {
   "cell_type": "code",
   "execution_count": 5,
   "id": "ec8bae71",
   "metadata": {},
   "outputs": [
    {
     "data": {
      "image/png": "[encoded data removed]",
      "text/plain": [
       "<Figure size 640x480 with 1 Axes>"
      ]
     },
     "metadata": {},
     "output_type": "display_data"
    }
   ],
   "source": [
    "planner = RecedingHorizonAgent(LineWorld(), inverse_temperature=1.0, horizon=30)\n",
    "values = [float(planner.value(s, 30).expected_value()) for s in range(-10, 8)]\n",
    "plt.imshow([values], extent=(-10.5, 7.5, -1, 3), cmap='viridis')\n",
    "\n",
    "for _ in range(10):\n",
    "    trajectory = planner.run_from(0, 30)[:-1]\n",
    "    plt.plot(trajectory, np.linspace(0, 2, len(trajectory)), '-', color='red', alpha=.5)"
   ]
  },
  {
   "cell_type": "markdown",
   "id": "393330d7",
   "metadata": {},
   "source": [
    "## Gridworlds\n",
    "\n",
    "The next cell includes a simple Gridworld implementation that we can use for\n",
    "examining our receding horizon planner, followed by some examples.\n"
   ]
  },
  {
   "cell_type": "code",
   "execution_count": 6,
   "id": "60a0e4d9",
   "metadata": {},
   "outputs": [],
   "source": [
    "@dataclasses.dataclass(frozen=True)\n",
    "class Gridworld(MDP):\n",
    "    walls: frozenset\n",
    "    goals: frozenset\n",
    "    lava: frozenset\n",
    "    ice: frozenset\n",
    "    rocks: frozenset\n",
    "    initial_states: frozenset\n",
    "    height: int\n",
    "    width: int\n",
    "    ice_slip_prob: float = .2\n",
    "\n",
    "    @classmethod\n",
    "    def from_grid(cls, grid: str):\n",
    "        # Note: we reorder and transpose\n",
    "        grid = np.array([list(row.strip()) for row in grid.strip().split('\\n')[::-1]]).T\n",
    "        walls = frozenset((int(i), int(j)) for i, j in zip(*np.where(grid == '#')))\n",
    "        goals = frozenset((int(i), int(j)) for i, j in zip(*np.where(grid == '$')))\n",
    "        lava = frozenset((int(i), int(j)) for i, j in zip(*np.where(grid == 'x')))\n",
    "        ice = frozenset((int(i), int(j)) for i, j in zip(*np.where(grid == '~')))\n",
    "        rocks = frozenset((int(i), int(j)) for i, j in zip(*np.where(grid == '^')))\n",
    "        initial_states = frozenset((int(i), int(j)) for i, j in zip(*np.where(grid == 's')))\n",
    "        height, width = grid.shape[::-1]\n",
    "        return cls(\n",
    "            walls=walls, goals=goals, initial_states=initial_states,\n",
    "            lava=lava, ice=ice, rocks=rocks,\n",
    "            height=height, width=width)\n",
    "\n",
    "    def actions(self, state):\n",
    "        return ((0, 1), (1, 0), (0, -1), (-1, 0))\n",
    "    \n",
    "    @infer\n",
    "    def initial_state_dist(self):\n",
    "        return draw_from(tuple(self.initial_states))\n",
    "\n",
    "    @infer\n",
    "    def step(self, state, action):\n",
    "        if state in self.ice and flip(self.ice_slip_prob):\n",
    "            rot = draw_from([((0, -1), (1, 0)), ((0, 1), (-1, 0))])\n",
    "            action = np.array(rot) @ np.array(action)\n",
    "            action = (int(action[0]), int(action[1]))\n",
    "        next_state = (state[0] + action[0], state[1] + action[1])\n",
    "        if (next_state in self.walls) or (next_state in self.rocks):\n",
    "            return state, False, -10 + -10*(state in self.lava)\n",
    "        done = next_state in self.goals\n",
    "        reward = 0 if done else -1 + -10*(state in self.lava)\n",
    "        return next_state, done, reward \n",
    "    \n",
    "\n",
    "    def plot(self):\n",
    "        fig, ax = plt.subplots()\n",
    "        for x, y in self.rocks:\n",
    "            ax.add_patch(Rectangle((x+.05, y+.05), width=.9, height=.9, color=\"grey\", ec='k'))\n",
    "        for x, y in self.lava:\n",
    "            ax.add_patch(Rectangle((x, y), width=1, height=1, color=\"red\", ec='pink'))\n",
    "        for x, y in self.walls:\n",
    "            ax.add_patch(Rectangle((x, y), width=1, height=1, color=\"k\", ec='k'))\n",
    "        for x, y in self.ice:\n",
    "            ax.add_patch(Rectangle((x, y), width=1, height=1, color=\"cyan\", ec='lightblue'))\n",
    "        for x, y in self.goals:\n",
    "            ax.add_patch(Rectangle((x+.25, y+.25), width=.5, height=.5, color=\"green\", ec='lightgreen'))\n",
    "        for x, y in self.initial_states:\n",
    "            ax.add_patch(Circle((x + .5, y + .5), radius=.25, facecolor='None', ec='blue'))\n",
    "\n",
    "        ax.set_ylim(0, self.height)\n",
    "        ax.set_xlim(0, self.width)\n",
    "        ax.set_axis_off()\n",
    "        ax.set_aspect(\"equal\")\n",
    "        return ax\n",
    "\n",
    "def plot_gridworld_simulations(planner: RecedingHorizonAgent, gw: Gridworld, n_sims=10):\n",
    "    ax = gw.plot()\n",
    "    for _ in range(n_sims):\n",
    "        traj = planner.run_from(gw.initial_state_dist().sample())\n",
    "        traj = np.array(traj).T + .5\n",
    "        ax.plot(traj[0], traj[1], lw=8, c='b', alpha=.1)"
   ]
  },
  {
   "cell_type": "code",
   "execution_count": 7,
   "id": "bcd118a3",
   "metadata": {},
   "outputs": [
    {
     "data": {
      "image/png": "[encoded data removed]",
      "text/plain": [
       "<Figure size 640x480 with 1 Axes>"
      ]
     },
     "metadata": {},
     "output_type": "display_data"
    }
   ],
   "source": [
    "gw = Gridworld.from_grid(\"\"\"\n",
    "    ########\n",
    "    #s^    #\n",
    "    #   ^ $#\n",
    "    #   ^  #\n",
    "    #      #\n",
    "    #      #\n",
    "    ########\n",
    "\"\"\")\n",
    "planner = RecedingHorizonAgent(gw, horizon=10, inverse_temperature=10.0)\n",
    "plot_gridworld_simulations(planner, gw)"
   ]
  },
  {
   "cell_type": "code",
   "execution_count": 8,
   "id": "a97da37e",
   "metadata": {},
   "outputs": [
    {
     "data": {
      "image/png": "[encoded data removed]",
      "text/plain": [
       "<Figure size 640x480 with 1 Axes>"
      ]
     },
     "metadata": {},
     "output_type": "display_data"
    }
   ],
   "source": [
    "gw = Gridworld.from_grid(\"\"\"\n",
    "    ########\n",
    "    #s^ x  #\n",
    "    #   ^ $#\n",
    "    #   ^  #\n",
    "    #      #\n",
    "    #   x  #\n",
    "    ########\n",
    "\"\"\")\n",
    "planner = RecedingHorizonAgent(gw, horizon=20, inverse_temperature=10.0)\n",
    "plot_gridworld_simulations(planner, gw)"
   ]
  },
  {
   "cell_type": "code",
   "execution_count": 9,
   "id": "2b0c2633",
   "metadata": {},
   "outputs": [
    {
     "data": {
      "image/png": "[encoded data removed]",
      "text/plain": [
       "<Figure size 640x480 with 1 Axes>"
      ]
     },
     "metadata": {},
     "output_type": "display_data"
    }
   ],
   "source": [
    "gw = Gridworld.from_grid(\"\"\"\n",
    "    ########\n",
    "    #s     #\n",
    "    #x~    #\n",
    "    #x~    #\n",
    "    #x~    #\n",
    "    #$     #\n",
    "    ########\n",
    "\"\"\")\n",
    "planner = RecedingHorizonAgent(gw, horizon=30, inverse_temperature=10.0)\n",
    "plot_gridworld_simulations(planner, gw)"
   ]
  },
  {
   "cell_type": "markdown",
   "id": "ecba5e40",
   "metadata": {},
   "source": [
    "# Planning with value-guided construals\n",
    "\n",
    "FlipPy also makes it straightforward to implement **value-guided construal**\n",
    "models ([Ho et al. (2022)]( https://doi.org/10.1038/s41586-022-04743-9)),\n",
    "in which a decision-maker selects a simplified task representation to use\n",
    "for planning. Below we have a simple implementation of this idea in terms\n",
    "of an agent that can select a subset of rocks in a gridworld to plan with\n",
    "respect to. "
   ]
  },
  {
   "cell_type": "code",
   "execution_count": 10,
   "id": "07a73a1e",
   "metadata": {},
   "outputs": [],
   "source": [
    "gw = Gridworld.from_grid(\"\"\"\n",
    "    #######\n",
    "    #s   ^#\n",
    "    # ^#  #\n",
    "    # ###^#\n",
    "    # ^#  #\n",
    "    #    $#\n",
    "    #######\n",
    "\"\"\")\n",
    "\n",
    "@keep_deterministic\n",
    "def dataclasses_replace(obj, **kwargs):\n",
    "    return dataclasses.replace(obj, **kwargs)\n",
    "\n",
    "@infer\n",
    "def construal_prior(gw: Gridworld):\n",
    "    rocks = frozenset([r for r in tuple(gw.rocks) if flip()])\n",
    "    return dataclasses_replace(gw, rocks=rocks)\n",
    "\n",
    "@infer\n",
    "def value_guided_construal(gw: Gridworld, state):\n",
    "    construed_gw = construal_prior(gw).sample()\n",
    "    planner = RecedingHorizonAgent(construed_gw, inverse_temperature=10, horizon=10)\n",
    "    construal_value = gw.evaluate_policy(planner.policy, state, steps=10)\n",
    "    construal_cost = len(construed_gw.rocks)\n",
    "    factor(construal_value - construal_cost)\n",
    "    return construed_gw\n",
    "\n",
    "state = gw.initial_state_dist().sample()\n",
    "dist = value_guided_construal(gw, state)"
   ]
  },
  {
   "cell_type": "code",
   "execution_count": 11,
   "id": "3db957b8",
   "metadata": {},
   "outputs": [
    {
     "data": {
      "text/plain": [
       "<Axes: >"
      ]
     },
     "execution_count": 11,
     "metadata": {},
     "output_type": "execute_result"
    },
    {
     "data": {
      "image/png": "[encoded data removed]",
      "text/plain": [
       "<Figure size 640x480 with 1 Axes>"
      ]
     },
     "metadata": {},
     "output_type": "display_data"
    }
   ],
   "source": [
    "cgw = dist.sample()\n",
    "cgw.plot()"
   ]
  },
  {
   "cell_type": "code",
   "execution_count": 12,
   "id": "6da0d395",
   "metadata": {},
   "outputs": [
    {
     "data": {
      "image/png": "[encoded data removed]",
      "text/plain": [
       "<Figure size 640x480 with 1 Axes>"
      ]
     },
     "metadata": {},
     "output_type": "display_data"
    }
   ],
   "source": [
    "# This cell plots the probability a rock is present in the construed gridworld\n",
    "ax = gw.plot()\n",
    "for r in gw.rocks:\n",
    "    prob = dist.marginalize(lambda cgw: r in cgw.rocks).prob(True)\n",
    "    ax.text(\n",
    "        r[0] + .5, r[1] + .5, f\"{prob:.2f}\",\n",
    "        ha='center', va='center', fontsize=12, color='black'\n",
    "    )"
   ]
  },
  {
   "cell_type": "markdown",
   "id": "ce3bf2ca",
   "metadata": {},
   "source": [
    "# Partially observable MDPs\n",
    "\n",
    "Partially Observable Markov Decision Processes (POMDPs) extend Markov Decision Processes (MDPs) by \n",
    "incorporating uncertainty in the system's state, meaning the true state is not fully observable. In a POMDP, \n",
    "we assume that at each timestep, the agent recieves an observation as opposed to the full state. \n",
    "Here, we model this by assuming that we have a step function that samples a\n",
    "a state, *observation*, continue flag, and reward (rather than just a state, \n",
    "continue flag and reward as with MDPs):\n",
    "$$\n",
    "P(s', o, \\gamma, r \\mid s, a)\n",
    "$$\n",
    "\n",
    "In a POMDP, agents must reason about uncertain state given the actions taken and\n",
    "observations received. Given a prior belief over states $b(s)$, we can compute\n",
    "our distribution over next states using Bayes rule: \n",
    "$$\n",
    "\\begin{align}\n",
    "P(s' \\mid a, o, b) &\\propto P(s', o \\mid a, b) \\\\\n",
    "&= \\sum_s P(s', o \\mid s, a) b(s) \\\\\n",
    "&= \\sum_{s, d, r} P(s', o, d, r \\mid s, a)b(s)\n",
    "\\end{align}\n",
    "$$\n",
    "\n",
    "An interesting property of POMDPs is that they can be converted to an equivalent\n",
    "**belief-space MDP**, where belief transitions occur consistent with Bayes rule\n",
    "above. That is, we can define a transition function:\n",
    "$$\n",
    "P(b', \\gamma, r \\mid b, a)\n",
    "$$\n",
    "and then solve the corresponding MDP over beliefs. See \n",
    "[Kaelbling, Littman & Cassandra (1998)](https://doi.org/10.1016/S0004-3702(98)00023-X)\n",
    "for more details.\n",
    "\n",
    "FlipPy makes many of these computations easy to specify.\n",
    "In the next cell, we define an abstract interface for a POMDP, implement\n",
    "a version of the tiger problem from Kaelbling et al. (1998), and \n",
    "approximately solve it with our receding horizon planner.\n"
   ]
  },
  {
   "cell_type": "code",
   "execution_count": 13,
   "id": "425751c8",
   "metadata": {},
   "outputs": [],
   "source": [
    "@dataclasses.dataclass(frozen=True)\n",
    "class POMDP:\n",
    "    def initial_state_dist(self) -> Categorical:\n",
    "        raise NotImplementedError\n",
    "\n",
    "    def actions(self) -> tuple:\n",
    "        raise NotImplementedError\n",
    "    \n",
    "    def step(self, state, action) -> Categorical:\n",
    "        raise NotImplementedError\n",
    "\n",
    "@dataclasses.dataclass(frozen=True)\n",
    "class BeliefStateMDP(MDP):\n",
    "    pomdp: POMDP\n",
    "\n",
    "    @infer\n",
    "    def initial_state_dist(self):\n",
    "        return self.pomdp.initial_state_dist()\n",
    "    \n",
    "    def actions(self, state):\n",
    "        return self.pomdp.actions()\n",
    "    \n",
    "    @infer\n",
    "    def step(self, state, action):\n",
    "        belief_state = state # This is a belief state, not an actual state\n",
    "        ground_state = belief_state.sample()\n",
    "        _, obs, done, reward = self.pomdp.step(ground_state, action).sample()\n",
    "        next_belief_state = self.update_belief_state(action, obs, belief_state)\n",
    "        return next_belief_state, done, reward\n",
    "\n",
    "    @infer\n",
    "    def update_belief_state(self, action, obs, prior):\n",
    "        state = prior.sample()\n",
    "        next_state, obs_, _, _ = self.pomdp.step(state, action).sample()\n",
    "        condition(obs == obs_)\n",
    "        return next_state\n",
    "    "
   ]
  },
  {
   "cell_type": "code",
   "execution_count": 14,
   "id": "eb9a92f7",
   "metadata": {},
   "outputs": [],
   "source": [
    "@dataclasses.dataclass(frozen=True)\n",
    "class Tiger(POMDP):\n",
    "    tiger_cost = -100\n",
    "    treasure_reward = 10\n",
    "    step_cost = -1\n",
    "    roar_prob = .85\n",
    "\n",
    "    @infer\n",
    "    def initial_state_dist(self):\n",
    "        return draw_from((\"tiger_left\", \"tiger_right\"))\n",
    "    \n",
    "    def actions(self):\n",
    "        return (\"listen\", \"open_left\", \"open_right\")\n",
    "    \n",
    "    @infer\n",
    "    def step(self, state, action):\n",
    "        tiger_loc = state.split(\"_\")[1]\n",
    "        if action in (\"open_left\", \"open_right\"):\n",
    "            door_opened = action.split(\"_\")[1]\n",
    "            next_state = draw_from((\"left\", \"right\"))\n",
    "            if tiger_loc == door_opened:\n",
    "                reward = self.tiger_cost + self.step_cost\n",
    "            else:\n",
    "                reward = self.treasure_reward + self.step_cost\n",
    "            return next_state, True, True, reward\n",
    "        if tiger_loc == \"left\":\n",
    "            obs = \"left_roar\" if flip(self.roar_prob) else \"right_roar\"\n",
    "        else:\n",
    "            obs = \"right_roar\" if flip(self.roar_prob) else \"left_roar\"\n",
    "        return state, obs, False, self.step_cost\n",
    "\n",
    "    @infer\n",
    "    def make_belief_state(self, left_prob):\n",
    "        return \"tiger_left\" if flip(left_prob) else \"tiger_right\""
   ]
  },
  {
   "cell_type": "code",
   "execution_count": 15,
   "id": "b61381bd",
   "metadata": {},
   "outputs": [
    {
     "data": {
      "text/plain": [
       "Text(0, 0.5, 'Value of Belief State')"
      ]
     },
     "execution_count": 15,
     "metadata": {},
     "output_type": "execute_result"
    },
    {
     "data": {
      "image/png": "[encoded data removed]",
      "text/plain": [
       "<Figure size 640x480 with 1 Axes>"
      ]
     },
     "metadata": {},
     "output_type": "display_data"
    }
   ],
   "source": [
    "tiger = Tiger()\n",
    "bmdp = BeliefStateMDP(tiger)\n",
    "planner = RecedingHorizonAgent(bmdp, inverse_temperature=1.0, horizon=5)\n",
    "\n",
    "values = []\n",
    "for left_prob in np.linspace(0, 1, 10):\n",
    "    v = planner.value(tiger.make_belief_state(left_prob), horizon=5).expected_value()\n",
    "    values.append(v)\n",
    "\n",
    "plt.plot(np.linspace(0, 1, 10), values, marker='o')\n",
    "plt.xlabel(\"Probability of Tiger on Left\")\n",
    "plt.ylabel(\"Value of Belief State\")"
   ]
  },
  {
   "cell_type": "code",
   "execution_count": null,
   "id": "29dbf358",
   "metadata": {},
   "outputs": [],
   "source": []
  }
 ],
 "metadata": {
  "kernelspec": {
   "display_name": "flippy",
   "language": "python",
   "name": "python3"
  },
  "language_info": {
   "codemirror_mode": {
    "name": "ipython",
    "version": 3
   },
   "file_extension": ".py",
   "mimetype": "text/x-python",
   "name": "python",
   "nbconvert_exporter": "python",
   "pygments_lexer": "ipython3",
   "version": "3.12.11"
  },
  "title": "Sequential Decision Making"
 },
 "nbformat": 4,
 "nbformat_minor": 5
}
