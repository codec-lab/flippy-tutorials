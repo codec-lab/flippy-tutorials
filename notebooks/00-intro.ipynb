{
 "cells": [
  {
   "cell_type": "markdown",
   "metadata": {},
   "source": [
    "# Introduction to FlipPy\n",
    "\n",
    "<div align=\"center\">\n",
    "    <img src=\"https://raw.githubusercontent.com/codec-lab/flippy/refs/heads/main/flippy-wide.svg\" alt=\"FlipPy Logo\" width=\"40%\"/>\n",
    "</div>\n",
    "\n",
    "[FlipPy](https://codec-lab.github.io/flippy/) is a lightweight probabilistic programming language \n",
    "that is written entirely in Python. It prioritizes integration with Python, universality, \n",
    "and user-friendliness. It takes inspiration from the design and implementation\n",
    "of [WebPPL](http://webppl.org/). \n",
    "\n",
    "In a nutshell, FlipPy is a library for expressing **probabilistic models** \n",
    "as Python programs and performing **probabilistic inference** over those models.\n",
    "Here, we briefly discuss how FlipPy extends Python from a deterministic programming language\n",
    "to a probabilistic programming language before elaborating on the FlipPy API.\n",
    "\n",
    "This tutorial assumes basic familiarity with Python as well as probability theory.\n",
    "\n",
    "The following additional tutorials are also available:\n",
    "\n",
    "- [Rational Speech Acts (RSA)](./01-RSA)\n",
    "- [Language of Thought (LoT)](./02-LoT)\n",
    "- [Hidden Markov Models (HMMs)](./03-HMMs)\n",
    "- [Bayesian Non-parametrics](./04-DP-MM)\n",
    "- [Intuitive Physics](./05-Physics)\n",
    "- [Sequential Decision-Making](./06-Sequential-DM)"
   ]
  },
  {
   "cell_type": "markdown",
   "metadata": {},
   "source": [
    "# From deterministic to probabilistic Python\n",
    "\n",
    "Like most general-purpose programming languages, Python is not inherently probabilistic.\n",
    "For instance, below we have a simple deterministic function that assigns \n",
    "values to variables `x` and `y`:"
   ]
  },
  {
   "cell_type": "code",
   "execution_count": 2,
   "metadata": {},
   "outputs": [
    {
     "data": {
      "text/plain": [
       "1"
      ]
     },
     "execution_count": 2,
     "metadata": {},
     "output_type": "execute_result"
    }
   ],
   "source": [
    "def deterministic_fn():\n",
    "    x = 1\n",
    "    y = 0\n",
    "    return x + y\n",
    "\n",
    "deterministic_fn() # Always returns 1"
   ]
  },
  {
   "cell_type": "markdown",
   "metadata": {},
   "source": [
    "Every time you run `deterministic_fn`, you get the same answer.\n",
    "\n",
    "Alternatively, we could add randomness to a function by *probabilistically* assigning values\n",
    "to `x` and `y`. For example, in the next cell, we randomly assign values to `x` and `y`\n",
    "by using a function from FlipPy called `flip(p)` that returns 1 with probability `p`\n",
    "and 0 with probability `1 - p`."
   ]
  },
  {
   "cell_type": "code",
   "execution_count": 3,
   "metadata": {},
   "outputs": [
    {
     "data": {
      "text/plain": [
       "1"
      ]
     },
     "execution_count": 3,
     "metadata": {},
     "output_type": "execute_result"
    }
   ],
   "source": [
    "from flippy import flip\n",
    "\n",
    "def probabilistic_fn():\n",
    "    x = flip(.4) # assigns 0 or 1\n",
    "    y = flip(.7) # assigns 0 or 1\n",
    "    return x + y\n",
    "\n",
    "probabilistic_fn() # returns 0, 1, or 2"
   ]
  },
  {
   "cell_type": "markdown",
   "metadata": {},
   "source": [
    "Every time you run `probabilistic_fn`, you get one of three possible values:\n",
    "`0`, `1`, or `2` depending on what each call to `flip()` assigns to `x` or `y`.\n",
    "Try running the above cell multiple times to check this.\n",
    "\n",
    "Note that `probablistic_fn` **implicitly** defines a distribution over possible return \n",
    "values (`0`, `1`, and `2`). What if we wanted to **explicitly** represent those probabiliites?\n",
    "That is, what if I wanted to know the numerical probability of returning each value? FlipPy\n",
    "has a special function called `infer` that converts functions like `probabilistic_fn`\n",
    "with implicit randomness into functions that return **explicit distributions**<sup>[1](#reify)</sup>. \n",
    "The next few cells show how this works.\n",
    "\n",
    "<hr>\n",
    "\n",
    "<a name=\"reify\">1</a>: This is sometimes called \"reifying\" a random function into a distribution."
   ]
  },
  {
   "cell_type": "code",
   "execution_count": 4,
   "metadata": {},
   "outputs": [],
   "source": [
    "from flippy import flip, infer\n",
    "\n",
    "def implicit_probabilistic_fn():\n",
    "    x = flip(.4)\n",
    "    y = flip(.7)\n",
    "    return x + y\n",
    "\n",
    "explicit_probabilistic_fn = infer(implicit_probabilistic_fn)"
   ]
  },
  {
   "cell_type": "code",
   "execution_count": 5,
   "metadata": {},
   "outputs": [
    {
     "data": {
      "text/plain": [
       "2"
      ]
     },
     "execution_count": 5,
     "metadata": {},
     "output_type": "execute_result"
    }
   ],
   "source": [
    "# each time you run this you get 0, 1, or 2 with some probability\n",
    "implicit_probabilistic_fn() "
   ]
  },
  {
   "cell_type": "code",
   "execution_count": 6,
   "metadata": {},
   "outputs": [
    {
     "data": {
      "text/html": [
       "<table><thead><tr><th></th><th>Element</th><th>Probability</th></tr></thead><tbody><tr><td><b>0</b></td><td>1</td><td>0.540</td></tr><tr><td><b>1</b></td><td>0</td><td>0.180</td></tr><tr><td><b>2</b></td><td>2</td><td>0.280</td></tr></tbody></table>"
      ],
      "text/plain": [
       "DiscreteInferenceResult(support=(1, 0, 2), probabilities=(np.float64(0.54), np.float64(0.18000000000000005), np.float64(0.27999999999999997)))"
      ]
     },
     "execution_count": 6,
     "metadata": {},
     "output_type": "execute_result"
    }
   ],
   "source": [
    "# each time you run this you get a distribution object\n",
    "# with numerical probabilities for 0, 1, and 2\n",
    "dist = explicit_probabilistic_fn() \n",
    "dist"
   ]
  },
  {
   "cell_type": "markdown",
   "metadata": {},
   "source": [
    "Note that even though the `dist` object returned by `explicit_probabilistic_fn()` is\n",
    "rendered in the Jupyter notebook as a table, it is in fact an instance of a FlipPy\n",
    "`Distribution` class or one of its subclasses."
   ]
  },
  {
   "cell_type": "code",
   "execution_count": 7,
   "metadata": {},
   "outputs": [
    {
     "name": "stdout",
     "output_type": "stream",
     "text": [
      "DiscreteInferenceResult(support=(1, 0, 2), probabilities=(np.float64(0.54), np.float64(0.18000000000000005), np.float64(0.27999999999999997)))\n",
      "True\n"
     ]
    }
   ],
   "source": [
    "from flippy.distributions import Distribution\n",
    "print(dist)\n",
    "print(isinstance(dist, Distribution))"
   ]
  },
  {
   "cell_type": "markdown",
   "metadata": {},
   "source": [
    "These distribution classes have a number of useful helper methods."
   ]
  },
  {
   "cell_type": "code",
   "execution_count": 8,
   "metadata": {},
   "outputs": [
    {
     "data": {
      "text/plain": [
       "1"
      ]
     },
     "execution_count": 8,
     "metadata": {},
     "output_type": "execute_result"
    }
   ],
   "source": [
    "# Distributions can be sampled from\n",
    "dist.sample()"
   ]
  },
  {
   "cell_type": "code",
   "execution_count": 9,
   "metadata": {},
   "outputs": [
    {
     "name": "stdout",
     "output_type": "stream",
     "text": [
      "0.27999999999999997\n",
      "0.0\n",
      "-0.616186139423817\n"
     ]
    }
   ],
   "source": [
    "# We can get probabilities and log-probabliites of values\n",
    "print(dist.prob(2))\n",
    "print(dist.prob(3))\n",
    "print(dist.log_probability(1))"
   ]
  },
  {
   "cell_type": "code",
   "execution_count": 10,
   "metadata": {},
   "outputs": [
    {
     "data": {
      "text/plain": [
       "{1: 0.54, 0: 0.18000000000000005, 2: 0.27999999999999997}"
      ]
     },
     "execution_count": 10,
     "metadata": {},
     "output_type": "execute_result"
    }
   ],
   "source": [
    "# Distributions can be converted to dictionaries (as long as they are finite)\n",
    "dict(dist)"
   ]
  },
  {
   "cell_type": "markdown",
   "metadata": {},
   "source": [
    "Distributions can also be sampled from **within** an `infer`-ed \n",
    "function to create new functions. For example, "
   ]
  },
  {
   "cell_type": "code",
   "execution_count": 11,
   "metadata": {},
   "outputs": [
    {
     "data": {
      "text/html": [
       "<table><thead><tr><th></th><th>Element</th><th>Probability</th></tr></thead><tbody><tr><td><b>0</b></td><td>2</td><td>0.392</td></tr><tr><td><b>1</b></td><td>1</td><td>0.194</td></tr><tr><td><b>2</b></td><td>3</td><td>0.302</td></tr><tr><td><b>3</b></td><td>4</td><td>0.078</td></tr><tr><td><b>4</b></td><td>0</td><td>0.032</td></tr></tbody></table>"
      ],
      "text/plain": [
       "DiscreteInferenceResult(support=(2, 1, 3, 4, 0), probabilities=(np.float64(0.3924), np.float64(0.19440000000000007), np.float64(0.3024), np.float64(0.07839999999999998), np.float64(0.03240000000000001)))"
      ]
     },
     "execution_count": 11,
     "metadata": {},
     "output_type": "execute_result"
    }
   ],
   "source": [
    "@infer # Note that here we use infer as a function decorator\n",
    "def another_probabilistic_fn():\n",
    "    a = dist.sample()\n",
    "    b = dist.sample()\n",
    "    return a + b\n",
    "\n",
    "another_probabilistic_fn()"
   ]
  },
  {
   "cell_type": "markdown",
   "metadata": {},
   "source": [
    "FlipPy includes a number of elementary distributions that can be imported \n",
    "from `flippy.distributions`, as in the following cell."
   ]
  },
  {
   "cell_type": "code",
   "execution_count": 12,
   "metadata": {},
   "outputs": [
    {
     "data": {
      "text/plain": [
       "0.13396729752285014"
      ]
     },
     "execution_count": 12,
     "metadata": {},
     "output_type": "execute_result"
    }
   ],
   "source": [
    "from flippy.distributions import Normal, Uniform, Beta, Bernoulli, Binomial, \\\n",
    "    Geometric, Poisson, Dirichlet, Multinomial\n",
    "\n",
    "my_beta = Beta(2, 5)\n",
    "my_beta.sample()"
   ]
  },
  {
   "cell_type": "markdown",
   "metadata": {},
   "source": [
    "# Bayesian inference with FlipPy\n",
    "\n",
    "In the previous section, we used FlipPy to turn implicit\n",
    "randomness into explicit distributions, but these were all in cases where\n",
    "we were only performing **forward simulation** of a generative model. In **Bayesian inference**,\n",
    "we typically treat such models as data-generating processes, and then \n",
    "condition on observed data to get **posterior distributions** over variables\n",
    "involved in that process. This idea captured succinctly by Bayes rule:\n",
    "\n",
    "$$\n",
    "P(\\text{model} \\mid \\text{data}) \\propto P(\\text{data} \\mid \\text{model}) P(\\text{model})\n",
    "$$\n",
    "\n",
    "To make things more concrete, consider a generative model in which we first\n",
    "randomly choose between a fair coin and a biased coin, flip it 10 times, and\n",
    "add up the number of heads. We can write this process out as the following function:"
   ]
  },
  {
   "cell_type": "code",
   "execution_count": 13,
   "metadata": {},
   "outputs": [
    {
     "data": {
      "text/plain": [
       "<Axes: ylabel='Probability'>"
      ]
     },
     "execution_count": 13,
     "metadata": {},
     "output_type": "execute_result"
    },
    {
     "data": {
      "image/png": "[encoded data removed]",
      "text/plain": [
       "<Figure size 640x480 with 1 Axes>"
      ]
     },
     "metadata": {},
     "output_type": "display_data"
    }
   ],
   "source": [
    "@infer\n",
    "def coin_flipping_model():\n",
    "    # randomly choose a fair coin or biased coin\n",
    "    # note that `coin` is going to be a function\n",
    "    coin_type = 'fair' if flip() else 'biased'\n",
    "    if coin_type == 'fair':\n",
    "        coin = lambda : flip(.5) # fair coin\n",
    "    else:\n",
    "        coin = lambda : flip(.9) # biased coin\n",
    "\n",
    "    # simulate flipping the coin 10 times\n",
    "    heads_simulated = 0\n",
    "    for _ in range(10):\n",
    "        heads_simulated += coin()\n",
    "    \n",
    "    return heads_simulated\n",
    "\n",
    "coin_flipping_model().plot()"
   ]
  },
  {
   "cell_type": "markdown",
   "metadata": {},
   "source": [
    "Now suppose that you don't know which coin was chosen\n",
    "but you observed 9 heads out of 10 flips. Which coin would you think was chosen?\n",
    "What if you observed 3 heads? 7 heads?\n",
    "\n",
    "In FlipPy, we can express this logic of **conditioning** inferences\n",
    "on observed data by using `condition` statements. The following cell\n",
    "rewrites the coin flipping model to capture this logic."
   ]
  },
  {
   "cell_type": "code",
   "execution_count": 14,
   "metadata": {},
   "outputs": [
    {
     "data": {
      "text/html": [
       "<table><thead><tr><th></th><th>Element</th><th>Probability</th></tr></thead><tbody><tr><td><b>0</b></td><td>biased</td><td>0.975</td></tr><tr><td><b>1</b></td><td>fair</td><td>0.025</td></tr></tbody></table>"
      ],
      "text/plain": [
       "DiscreteInferenceResult(support=('biased', 'fair'), probabilities=(np.float64(0.9754129747849141), np.float64(0.024587025215085958)))"
      ]
     },
     "execution_count": 14,
     "metadata": {},
     "output_type": "execute_result"
    }
   ],
   "source": [
    "from flippy import condition\n",
    "\n",
    "@infer\n",
    "def coin_flipping_model_with_observations(heads_observed):\n",
    "    # randomly choose a fair coin or biased coin\n",
    "    # note that `coin` is going to be a function\n",
    "    coin_type = 'fair' if flip() else 'biased'\n",
    "    if coin_type == 'fair':\n",
    "        coin = lambda : flip(.5) # fair coin\n",
    "    else:\n",
    "        coin = lambda : flip(.9) # biased coin\n",
    "\n",
    "    # simulate flipping the coin 10 times\n",
    "    heads_simulated = 0\n",
    "    for _ in range(10):\n",
    "        heads_simulated += coin()\n",
    "\n",
    "    # NEW! condition on simulated heads being the same as observed heads\n",
    "    condition(heads_observed == heads_simulated)\n",
    "\n",
    "    return coin_type # return string not function\n",
    "\n",
    "coin_flipping_model_with_observations(9)"
   ]
  },
  {
   "cell_type": "markdown",
   "metadata": {},
   "source": [
    "In the last line, we called `coin_flipping_model_with_observations` with\n",
    "9 of 10 heads observed, and it told us that the coin was much more likely to be\n",
    "biased than to be fair. That makes sense!\n",
    "\n",
    "Lets unpack what's happening here. \n",
    "\n",
    "When we call the `infer`-ed `coin_flipping_model_with_observations` with the number of observed\n",
    "heads, we are essentially simulating flipping the fair or biased coin, conditioning\n",
    "on the observed heads matching the simulated heads, and then returning\n",
    "the `coin_type`. You can think of `condition` as telling `infer` whether or not\n",
    "a simulation is consistent with a condition. Here, that condition\n",
    "is whether the number of simulated heads equals the number of observed heads.\n",
    "\n",
    "\n",
    "In the next cell, we run `coin_flipping_model_with_observations` for different\n",
    "numbers of heads observed and plot the results using seaborn. As you can see,\n",
    "the more heads you observe, the more you believe the coin is biased, which makes sense!\n",
    "\n",
    "**Test your understanding**: Why are we returning `coin_type` and not `heads_simulated`,\n",
    "as in our original `coin_flipping_model` implementation? \n",
    "\n",
    "**Note**: `condition` can take any non-negative value, but in this example\n",
    "we only pass in boolean values. Remember that in Python, booleans subclass integers\n",
    "(`1 == True`, `0 == False`)."
   ]
  },
  {
   "cell_type": "code",
   "execution_count": 15,
   "metadata": {},
   "outputs": [
    {
     "data": {
      "text/plain": [
       "<Axes: xlabel='heads_observed', ylabel='prob'>"
      ]
     },
     "execution_count": 15,
     "metadata": {},
     "output_type": "execute_result"
    },
    {
     "data": {
      "image/png": "[encoded data removed]",
      "text/plain": [
       "<Figure size 640x480 with 1 Axes>"
      ]
     },
     "metadata": {},
     "output_type": "display_data"
    }
   ],
   "source": [
    "import seaborn as sns\n",
    "import pandas as pd\n",
    "\n",
    "coin_posteriors = []\n",
    "for heads_observed in range(0, 11):\n",
    "    res = coin_flipping_model_with_observations(heads_observed)\n",
    "    coin_posteriors.append({'prob': res.prob('fair'), 'coin': 'fair', 'heads_observed': heads_observed})\n",
    "    coin_posteriors.append({'prob': res.prob('biased'), 'coin': 'biased', 'heads_observed': heads_observed})\n",
    "\n",
    "coin_posteriors = pd.DataFrame(coin_posteriors)\n",
    "sns.lineplot(data=coin_posteriors, x='heads_observed', y='prob', hue='coin')\n"
   ]
  },
  {
   "cell_type": "markdown",
   "metadata": {},
   "source": [
    "## Alternative ways to condition in FlipPy\n",
    "\n",
    "In the previous examples, we used `condition` with a boolean input to influence\n",
    "the posterior distribution of each program. FlipPy provides several other ways\n",
    "to perform conditioning. \n",
    "\n",
    "For example, `factor` statements\n",
    "operate similarly to `condition` statements but are in log-space.\n",
    "This interface is useful for specifying utilities similar to the \n",
    "implementation of `factor` in [WebPPL](http://webppl.org/) (see other tutorial notebooks for examples).\n",
    "\n",
    "Additionally, each `Distribution`\n",
    "object has an `.observe(x)` method that corresponds to conditioning by \"observing\"\n",
    "a value from a distribution. \n",
    "This interface is useful when it is more convenient to specify \n",
    "conditioning in terms of the likelihood of a distribution as described in\n",
    "[van de Meent et al. (2018)](https://arxiv.org/abs/1809.10756).\n",
    "\n",
    "The next few cells demonstrate these three equivalent ways of conditioning."
   ]
  },
  {
   "cell_type": "code",
   "execution_count": 16,
   "metadata": {},
   "outputs": [
    {
     "data": {
      "text/html": [
       "<table><thead><tr><th></th><th>Element</th><th>Probability</th></tr></thead><tbody><tr><td><b>0</b></td><td>2</td><td>0.450</td></tr><tr><td><b>1</b></td><td>1</td><td>0.100</td></tr><tr><td><b>2</b></td><td>0</td><td>0.450</td></tr></tbody></table>"
      ],
      "text/plain": [
       "DiscreteInferenceResult(support=(2, 1, 0), probabilities=(np.float64(0.44999999999999996), np.float64(0.10000000000000003), np.float64(0.44999999999999996)))"
      ]
     },
     "execution_count": 16,
     "metadata": {},
     "output_type": "execute_result"
    }
   ],
   "source": [
    "from flippy import condition, factor\n",
    "import math\n",
    "\n",
    "@infer\n",
    "def condition_model():\n",
    "    x = flip()\n",
    "    y = flip()\n",
    "    condition(.9 if x == y else .1) # note here we pass condition a \"soft constraint\"\n",
    "    return x + y\n",
    "\n",
    "condition_model()"
   ]
  },
  {
   "cell_type": "code",
   "execution_count": 17,
   "metadata": {},
   "outputs": [
    {
     "data": {
      "text/html": [
       "<table><thead><tr><th></th><th>Element</th><th>Probability</th></tr></thead><tbody><tr><td><b>0</b></td><td>2</td><td>0.450</td></tr><tr><td><b>1</b></td><td>1</td><td>0.100</td></tr><tr><td><b>2</b></td><td>0</td><td>0.450</td></tr></tbody></table>"
      ],
      "text/plain": [
       "DiscreteInferenceResult(support=(2, 1, 0), probabilities=(np.float64(0.44999999999999996), np.float64(0.10000000000000003), np.float64(0.44999999999999996)))"
      ]
     },
     "execution_count": 17,
     "metadata": {},
     "output_type": "execute_result"
    }
   ],
   "source": [
    "@infer\n",
    "def factor_model():\n",
    "    x = flip()\n",
    "    y = flip()\n",
    "    factor(math.log(.9) if x == y else math.log(.1)) # note we convert to log-space\n",
    "    return x + y\n",
    "\n",
    "factor_model()"
   ]
  },
  {
   "cell_type": "code",
   "execution_count": 18,
   "metadata": {},
   "outputs": [
    {
     "data": {
      "text/html": [
       "<table><thead><tr><th></th><th>Element</th><th>Probability</th></tr></thead><tbody><tr><td><b>0</b></td><td>2</td><td>0.450</td></tr><tr><td><b>1</b></td><td>1</td><td>0.100</td></tr><tr><td><b>2</b></td><td>0</td><td>0.450</td></tr></tbody></table>"
      ],
      "text/plain": [
       "DiscreteInferenceResult(support=(2, 1, 0), probabilities=(np.float64(0.45000000000000007), np.float64(0.09999999999999995), np.float64(0.45000000000000007)))"
      ]
     },
     "execution_count": 18,
     "metadata": {},
     "output_type": "execute_result"
    }
   ],
   "source": [
    "@infer\n",
    "def observe_model():\n",
    "    x = flip()\n",
    "    y = flip()\n",
    "    Bernoulli(.9).observe(x == y)\n",
    "    return x + y\n",
    "\n",
    "observe_model()"
   ]
  },
  {
   "cell_type": "markdown",
   "metadata": {},
   "source": [
    "# More complex models and inference in FlipPy\n",
    "\n",
    "The first part of this notebook outlined the basic approach to probabilistic\n",
    "programming in FlipPy: \n",
    "\n",
    "1. Specify a generative process as a random program by sampling from distributions,\n",
    "2. Condition on certain properties of that process, and \n",
    "3. Perform inference to obtain a posterior distribution over return values.\n",
    "\n",
    "We focused on doing exact inference with\n",
    "simple coin flipping models, but FlipPy supports specification of models\n",
    "that include more complex components \n",
    "(e.g., continuous distributions, recursion, stochastic memoization)\n",
    "and provides several algorithms for doing approximate inference in such models\n",
    "(e.g., likelihood weighting, Markov Chain Monte Carlo). The next few cells provide\n",
    "examples, as do the other notebooks included in the tutorial."
   ]
  },
  {
   "cell_type": "markdown",
   "metadata": {},
   "source": [
    "### Medical Diagnosis"
   ]
  },
  {
   "cell_type": "code",
   "execution_count": 19,
   "metadata": {},
   "outputs": [
    {
     "data": {
      "text/html": [
       "<table><thead><tr><th>smokes</th><th>Probability</th></tr></thead><tbody><tr><td>True</td><td>0.961</td></tr><tr><td>False</td><td>0.039</td></tr></tbody></table>"
      ],
      "text/plain": [
       "DiscreteInferenceResult(support=({'smokes': True}, {'smokes': False}), probabilities=(np.float64(0.9605326097087853), np.float64(0.03946739029121484)))"
      ]
     },
     "execution_count": 19,
     "metadata": {},
     "output_type": "execute_result"
    }
   ],
   "source": [
    "@infer\n",
    "def model():\n",
    "    smokes = flip(.2)\n",
    "    lungDisease = flip(0.001) or (smokes and flip(0.1))\n",
    "    cold = flip(0.02)\n",
    "\n",
    "    cough = (cold and flip(0.5)) or (lungDisease and flip(0.5)) or flip(0.001)\n",
    "    fever = (cold and flip(0.3)) or flip(0.01)\n",
    "    chestPain = (lungDisease and flip(0.2)) or flip(0.01)\n",
    "    shortnessOfBreath = (lungDisease and flip(0.2)) or flip(0.01)\n",
    "\n",
    "    condition(cough and chestPain and shortnessOfBreath and not fever)\n",
    "\n",
    "    return {'smokes': smokes}\n",
    "\n",
    "model()"
   ]
  },
  {
   "cell_type": "markdown",
   "metadata": {},
   "source": [
    "### Stochastic memoization\n",
    "\n",
    "In deterministic programs, function calls can be \"memoized\" or \"cached\" by \n",
    "saving the return values associated with a set of function arguments for later\n",
    "reuse. In probablistic programs, we can perform an analogous operation \n",
    "called **stochastic memoization**, in which function calls are saved and reused\n",
    "*within a random execution*. This allows us to flexibly specify more expressive models\n",
    "that involve shared structure. \n",
    "\n",
    "In FlipPy, stochastic memoization is implemented \n",
    "with the `mem` function. The following example from \n",
    "[Goodman, Tenenbaum & Gerstenberg (2014)](https://cocolab.stanford.edu/papers/GoodmanEtAl2015-Chapter.pdf)\n",
    "demonstrates this."
   ]
  },
  {
   "cell_type": "code",
   "execution_count": 20,
   "metadata": {},
   "outputs": [],
   "source": [
    "from flippy import mem\n",
    "from flippy.distributions import Gaussian\n",
    "\n",
    "@mem\n",
    "def strength(player):\n",
    "    return Gaussian(0, 1).sample()\n",
    "\n",
    "@mem\n",
    "def lazy(player, game):\n",
    "    return flip(.1)\n",
    "\n",
    "@mem\n",
    "def team_strength(team, game):\n",
    "    return sum([\n",
    "        strength(p)/2 \n",
    "        if lazy(p, game) \n",
    "        else strength(p) \n",
    "        for p in team\n",
    "    ])\n",
    "\n",
    "@mem\n",
    "def winner(team1, team2, game):\n",
    "    if team_strength(team1, game) > team_strength(team2, game):\n",
    "        return 'team1'\n",
    "    return 'team2'\n",
    "\n",
    "@infer(method=\"LikelihoodWeighting\", samples=1000, seed=129299)\n",
    "def model():\n",
    "    winning_teams = [\n",
    "        winner(team1=(\"TG\",), team2=(\"NG\",), game=1),\n",
    "        winner(team1=(\"NG\",), team2=(\"AS\",), game=2),\n",
    "        winner(team1=(\"NG\",), team2=(\"BL\",), game=3)\n",
    "    ]\n",
    "    condition(\n",
    "        winning_teams[0] == 'team1' and\n",
    "        winning_teams[1] == 'team1' and\n",
    "        winning_teams[2] == 'team1'\n",
    "    )\n",
    "    return {\"TG\": strength(\"TG\"), \"NG\": strength(\"NG\"), \"AS\": strength(\"AS\"), \"BL\": strength(\"BL\")}\n",
    "\n",
    "res = model()"
   ]
  },
  {
   "cell_type": "code",
   "execution_count": 21,
   "metadata": {},
   "outputs": [
    {
     "name": "stdout",
     "output_type": "stream",
     "text": [
      "Expected strength of TG: 1.00\n",
      "Expected strength of BL: -0.63\n",
      "Expected strength of NG: 0.32\n",
      "Expected strength of AS: -0.62\n"
     ]
    }
   ],
   "source": [
    "# How strong is each player expected to be?\n",
    "\n",
    "# `res` is a joint distribution over player strengths\n",
    "# represented as a distribution over dictionaries\n",
    "\n",
    "# Here, we use marginalization to get the distribution over each player's strength\n",
    "# and then print the expected value of the marginalized distribution\n",
    "for player in ['TG', 'BL', 'NG', 'AS']:\n",
    "    marginal_dist = res.marginalize(lambda x: x[player])\n",
    "    expected_strength = marginal_dist.expected_value()\n",
    "    print(f\"Expected strength of {player}: {expected_strength:.2f}\")"
   ]
  },
  {
   "cell_type": "markdown",
   "metadata": {},
   "source": [
    "### Recursive distributions"
   ]
  },
  {
   "cell_type": "code",
   "execution_count": 22,
   "metadata": {},
   "outputs": [
    {
     "data": {
      "text/plain": [
       "(0.0, 100.0)"
      ]
     },
     "execution_count": 22,
     "metadata": {},
     "output_type": "execute_result"
    },
    {
     "data": {
      "image/png": "[encoded data removed]",
      "text/plain": [
       "<Figure size 640x480 with 1 Axes>"
      ]
     },
     "metadata": {},
     "output_type": "display_data"
    }
   ],
   "source": [
    "# note we need to bound the number of states to avoid infinite recursion\n",
    "@infer(max_states=100)\n",
    "def geometric_model(p):\n",
    "    def geometric():\n",
    "        if flip(p):\n",
    "            return 1 + geometric()\n",
    "        return 0\n",
    "    return geometric()\n",
    "ax = geometric_model(.9).plot()\n",
    "ax.set_xlim(0, 100)"
   ]
  },
  {
   "cell_type": "code",
   "execution_count": 23,
   "metadata": {},
   "outputs": [
    {
     "data": {
      "text/plain": [
       "(0.0, 100.0)"
      ]
     },
     "execution_count": 23,
     "metadata": {},
     "output_type": "execute_result"
    },
    {
     "data": {
      "image/png": "[encoded data removed]",
      "text/plain": [
       "<Figure size 640x480 with 1 Axes>"
      ]
     },
     "metadata": {},
     "output_type": "display_data"
    }
   ],
   "source": [
    "# alternatively, we can use a truncated geometric model\n",
    "@infer\n",
    "def truncated_geometric_model(p, n):\n",
    "    def geometric(n):\n",
    "        condition(n >= 0) # this line truncates the recursion \n",
    "        if flip(p):\n",
    "            return 1 + geometric(n - 1)\n",
    "        return 0\n",
    "    return geometric(n)\n",
    "ax = truncated_geometric_model(.9, 100).plot()\n",
    "ax.set_xlim(0, 100)"
   ]
  },
  {
   "cell_type": "code",
   "execution_count": 24,
   "metadata": {},
   "outputs": [
    {
     "data": {
      "text/plain": [
       "(0.0, 100.0)"
      ]
     },
     "execution_count": 24,
     "metadata": {},
     "output_type": "execute_result"
    },
    {
     "data": {
      "image/png": "[encoded data removed]",
      "text/plain": [
       "<Figure size 640x480 with 1 Axes>"
      ]
     },
     "metadata": {},
     "output_type": "display_data"
    }
   ],
   "source": [
    "# or, we can use an approximate inference method that does not enumerate all states\n",
    "@infer(method=\"LikelihoodWeighting\", samples=1000, seed=42)\n",
    "def approx_geometric_model(p):\n",
    "    def geometric():\n",
    "        # note we do not need to truncate since we're sampling\n",
    "        if flip(p):\n",
    "            return 1 + geometric()\n",
    "        return 0\n",
    "    return geometric()\n",
    "ax = approx_geometric_model(.9).plot()\n",
    "ax.set_xlim(0, 100)"
   ]
  },
  {
   "cell_type": "markdown",
   "metadata": {},
   "source": [
    "### Continuous Distributions"
   ]
  },
  {
   "cell_type": "code",
   "execution_count": 25,
   "metadata": {},
   "outputs": [
    {
     "name": "stdout",
     "output_type": "stream",
     "text": [
      "Analytic posterior mean and std: -0.67, 0.30\n",
      "Empirical posterior mean and std: -0.68, 0.31\n"
     ]
    },
    {
     "data": {
      "text/plain": [
       "<Axes: ylabel='Probability'>"
      ]
     },
     "execution_count": 25,
     "metadata": {},
     "output_type": "execute_result"
    },
    {
     "data": {
      "image/png": "[encoded data removed]",
      "text/plain": [
       "<Figure size 640x480 with 1 Axes>"
      ]
     },
     "metadata": {},
     "output_type": "display_data"
    }
   ],
   "source": [
    "from flippy.distributions import Normal, NormalNormal\n",
    "\n",
    "@infer(\n",
    "    method=\"LikelihoodWeighting\",\n",
    "    samples=1000,\n",
    "    seed=1234\n",
    ")\n",
    "def normal_model(obs, hyper_mu, hyper_sigma, sigma):\n",
    "    mu = Normal(hyper_mu, hyper_sigma).sample()\n",
    "    [Normal(mu, sigma).observe(o) for o in obs]\n",
    "    return mu\n",
    "\n",
    "obs = (-.75, -.72, -.57, -.82, -.69, -.77, -.74, -.76, -.8, -.79)\n",
    "res = normal_model(obs, hyper_mu=0, hyper_sigma=1, sigma=1)\n",
    "\n",
    "# we can compare to the mean and standard deviation of the analytical solution\n",
    "analytic = NormalNormal(prior_mean=0, prior_sd=1, sd=1).update(obs)\n",
    "print(f\"Analytic posterior mean and std: {analytic.prior_mean:.2f}, {analytic.prior_sd:.2f}\" )\n",
    "\n",
    "empirical_mean = res.expected_value()\n",
    "empirical_sd = res.expected_value(lambda x: (x - empirical_mean) ** 2) ** 0.5\n",
    "print(f\"Empirical posterior mean and std: {empirical_mean:.2f}, {empirical_sd:.2f}\" )\n",
    "\n",
    "res.plot()"
   ]
  },
  {
   "cell_type": "code",
   "execution_count": 26,
   "metadata": {},
   "outputs": [],
   "source": [
    "from flippy.distributions import Uniform\n",
    "\n",
    "@infer(\n",
    "    method=\"MetropolisHastings\",\n",
    "    samples=500,\n",
    "    burn_in=500,\n",
    "    thinning=10,\n",
    "    seed=100\n",
    ")\n",
    "def mixture_model(data):\n",
    "    p = Uniform(0, 1).sample()\n",
    "    mu1 = Normal(0, 5).sample()\n",
    "    mu2 = Normal(0, 5).sample()\n",
    "    cluster = [flip(p) for _ in data]\n",
    "    for i in range(len(data)):\n",
    "        if cluster[i]:\n",
    "            Normal(mu1, 1).observe(data[i])\n",
    "        else:\n",
    "            Normal(mu2, 1).observe(data[i])\n",
    "    return dict(p=p, mu1=mu1, mu2=mu2)"
   ]
  },
  {
   "cell_type": "code",
   "execution_count": 27,
   "metadata": {},
   "outputs": [
    {
     "data": {
      "text/plain": [
       "<Axes: ylabel='Probability'>"
      ]
     },
     "execution_count": 27,
     "metadata": {},
     "output_type": "execute_result"
    },
    {
     "data": {
      "image/png": "[encoded data removed]",
      "text/plain": [
       "<Figure size 640x480 with 1 Axes>"
      ]
     },
     "metadata": {},
     "output_type": "display_data"
    }
   ],
   "source": [
    "import matplotlib.pyplot as plt\n",
    "\n",
    "data = (\n",
    "    -3.39, -0.74, -1.74, -3.84, -1.87,  # cluster 1; mu1 = -2, sigma1 = 1\n",
    "    0.12, 1.18, -0.32, 1.3, 2.26 # cluster 2; mu2 = 1, sigma2 = 1\n",
    ")\n",
    "res = mixture_model(data)\n",
    "\n",
    "fig, ax = plt.subplots()\n",
    "res.marginalize(lambda x: x[\"mu1\"]).plot(ax)\n",
    "res.marginalize(lambda x: x[\"mu2\"]).plot(ax)"
   ]
  },
  {
   "cell_type": "markdown",
   "metadata": {},
   "source": [
    "# Python and FlipPy\n",
    "\n",
    "One of the design goals of FlipPy is seamless integration with the rest of Python.\n",
    "\n",
    "To this end, FlipPy includes a `keep_deterministic` function that makes it possible to use\n",
    "arbitrary deterministic Python for simulation and inference. For instance, \n",
    "one could perform inference with a physics simulator using the following recipe:\n",
    "```python\n",
    "from flippy import keep_deterministic, infer, condition\n",
    "\n",
    "@keep_deterministic\n",
    "def run_simulation(params):\n",
    "    return external_physics_library(params)\n",
    "\n",
    "@infer\n",
    "def model(observed_result):\n",
    "    params = params_prior()\n",
    "    result = run_simulation(params)\n",
    "    condition(result == observed_result)\n",
    "    return params\n",
    "```\n"
   ]
  },
  {
   "cell_type": "markdown",
   "metadata": {},
   "source": [
    "Additionally, FlipPy supports a functional subset of Python syntax as well as\n",
    "some imperative constructs (e.g., \"safe\" variable reassignment, well-behaved loops). \n",
    "The list below summarizes the Python constructs that FlipPy currently does and does not support:\n",
    "\n",
    "### Supported syntax\n",
    "- Variable assignment\n",
    "    ```python\n",
    "    x = flip()\n",
    "    ```\n",
    "- Variable re-assignment (Note that there are some restrictions on reassignment \n",
    "when variables are used across multiple function scopes).\n",
    "    ```python\n",
    "    x = flip()\n",
    "    x = 2\n",
    "    ```\n",
    "- Augmented assignment\n",
    "    ```python\n",
    "    x += 1\n",
    "    ```\n",
    "- Branching\n",
    "    ```python\n",
    "    test = flip() + flip()\n",
    "    if test == 0:\n",
    "        x = 2\n",
    "    elif test == 1:\n",
    "        x = 3\n",
    "    else:\n",
    "        x = 4\n",
    "    ```\n",
    "- Ternary operator (i.e., if-then-else)\n",
    "    ```python\n",
    "    value if test else other_value\n",
    "    ```\n",
    "- Function declaration \n",
    "    ```python\n",
    "    def func(p, x=10):\n",
    "        return flip(p)*x\n",
    "    ```\n",
    "- Lambda functions\n",
    "    ```python\n",
    "    lambda i : i + flip()\n",
    "    ```\n",
    "- Attribute lookups\n",
    "    ```python\n",
    "    my_obj.attribute\n",
    "    ```\n",
    "- list/set/dict comprehensions\n",
    "    ```python\n",
    "    [dist.observe(datum) for datum in data]\n",
    "    ```\n",
    "- Finite `for` loops\n",
    "    ```python\n",
    "    total = 0\n",
    "    for _ in range(10): \n",
    "        total += flip()\n",
    "    ```\n",
    "- `while` loops:\n",
    "    ```python\n",
    "    total = 0\n",
    "    while True:\n",
    "        if flip(.05):\n",
    "            break\n",
    "        total += flip()\n",
    "    ```\n",
    "- `break`, `continue`, `return` from a loop\n",
    "- Function decorators\n",
    "    ```python\n",
    "    @decorator\n",
    "    def myfunc(i):\n",
    "        return flip()\n",
    "    ```\n",
    "- Short circuiting of logical operators\n",
    "    ```python\n",
    "    if True or flip(): # flip() will never be called\n",
    "        do something\n",
    "    ```\n",
    "- Asserts\n",
    "    ```python\n",
    "    assert 0 < p <= 1\n",
    "    x = flip(p)\n",
    "    ```\n",
    "- Exceptions\n",
    "    ```python\n",
    "    if p > 1:\n",
    "        raise Exception(\"p is greater than 1\")\n",
    "    ```\n",
    "- Side effects (also see `keep_deterministic`)\n",
    "    ```python\n",
    "    @infer\n",
    "    def f()\n",
    "        print('hello from inside a function!')\n",
    "        return flip()\n",
    "    ```\n",
    "\n",
    "### Unsupported syntax\n",
    "- In-place mutation\n",
    "    ```python\n",
    "    x[i] = 2\n",
    "    ```\n",
    "- Global, nonlocal variables\n",
    "    ```python\n",
    "    global x\n",
    "    nonlocal x\n",
    "    ```\n",
    "- Class definitions\n",
    "    ```python\n",
    "    class MyClass:\n",
    "        ...\n",
    "    ```\n",
    "- `async`\n",
    "- `with`\n",
    "- `match`\n",
    "- `try ... except ... finally`\n",
    "- `import ...`\n",
    "- `await ...`\n",
    "- `yield ...`\n",
    "- Assignment within expression, e.g. `x := 10`\n",
    "- Named expressions, e.g., `[y := 1, y**2, y**3]`"
   ]
  },
  {
   "cell_type": "markdown",
   "metadata": {},
   "source": [
    "Happy flipping! 🐬"
   ]
  }
 ],
 "metadata": {
  "kernelspec": {
   "display_name": "flippy",
   "language": "python",
   "name": "python3"
  },
  "language_info": {
   "codemirror_mode": {
    "name": "ipython",
    "version": 3
   },
   "file_extension": ".py",
   "mimetype": "text/x-python",
   "name": "python",
   "nbconvert_exporter": "python",
   "pygments_lexer": "ipython3",
   "version": "3.12.11"
  },
  "title": "Introduction to FlipPy"
 },
 "nbformat": 4,
 "nbformat_minor": 2
}
