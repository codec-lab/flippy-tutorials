{
 "cells": [
  {
   "cell_type": "markdown",
   "id": "0ee52c1b",
   "metadata": {},
   "source": [
    "# Intuitive Physics"
   ]
  },
  {
   "cell_type": "code",
   "execution_count": 1,
   "id": "8ff11746",
   "metadata": {},
   "outputs": [],
   "source": [
    "import dataclasses\n",
    "import pymunk\n",
    "import matplotlib.pyplot as plt\n",
    "from frozendict import frozendict\n",
    "from flippy import keep_deterministic, uniform, condition, infer"
   ]
  },
  {
   "cell_type": "markdown",
   "id": "2d25f813",
   "metadata": {},
   "source": [
    "## Simulation with a black box physics engine"
   ]
  },
  {
   "cell_type": "code",
   "execution_count": 2,
   "id": "f6a6b4dd",
   "metadata": {},
   "outputs": [],
   "source": [
    "@dataclasses.dataclass(frozen=True)\n",
    "class Scene:\n",
    "    fixed_object_params: tuple\n",
    "    height: int = 600\n",
    "    width: int = 500\n",
    "\n",
    "    @keep_deterministic\n",
    "    def run(self, object_params, timesteps=1000):\n",
    "        space = self.space()\n",
    "        objects_bodies = self.objects_and_bodies(object_params)\n",
    "        for obj, body in objects_bodies.values():\n",
    "            space.add(body, obj)\n",
    "        obj_trajs = {\n",
    "            i: [] for i, (o, _) in objects_bodies.items()\n",
    "        }\n",
    "        for t in range(timesteps):\n",
    "            space.step(1/50)\n",
    "            for obj_i, (obj, body) in objects_bodies.items():\n",
    "                obj_trajs[obj_i].append(tuple(body.position))\n",
    "        return obj_trajs\n",
    "    \n",
    "    @staticmethod\n",
    "    def circle(x, y, radius, static):\n",
    "        body = pymunk.Body(\n",
    "            mass=1,\n",
    "            moment=pymunk.moment_for_circle(\n",
    "                mass=1,\n",
    "                inner_radius=0,\n",
    "                outer_radius=radius,\n",
    "                offset=(0, 0)\n",
    "            ),\n",
    "            body_type=pymunk.Body.STATIC if static else pymunk.Body.DYNAMIC\n",
    "        )\n",
    "        body.position = x, y\n",
    "        body.friction = 100\n",
    "        body.angle = 0\n",
    "        return pymunk.Circle(body=body, radius=radius), body\n",
    "    \n",
    "    @staticmethod\n",
    "    def box(x, y, h, w, static):\n",
    "        inertia = pymunk.moment_for_box(mass=1, size=(w, h))\n",
    "        body_type = pymunk.Body.STATIC if static else pymunk.Body.DYNAMIC\n",
    "        body = pymunk.Body(mass=1, moment=inertia, body_type=body_type)\n",
    "        body.position = x, y\n",
    "        body.friction = 100\n",
    "        return pymunk.Poly.create_box(body, size=(w, h)), body\n",
    "\n",
    "    def space(self):\n",
    "        space = pymunk.Space()\n",
    "        space.gravity = (0.0, -900.0)\n",
    "        static_lines = [\n",
    "            pymunk.Segment(\n",
    "                space.static_body,\n",
    "                pymunk.Vec2d(0, -35),\n",
    "                pymunk.Vec2d(self.width, -35),\n",
    "                40\n",
    "            ),\n",
    "            pymunk.Segment(\n",
    "                space.static_body,\n",
    "                pymunk.Vec2d(self.width+40, 0),\n",
    "                pymunk.Vec2d(self.width+40, self.height),\n",
    "                40\n",
    "            ),\n",
    "            pymunk.Segment(\n",
    "                space.static_body,\n",
    "                pymunk.Vec2d(-40, self.width),\n",
    "                pymunk.Vec2d(-40, 0),\n",
    "                40\n",
    "            )\n",
    "        ]\n",
    "        for l in static_lines:\n",
    "            l.friction = 100\n",
    "        space.add(*static_lines)\n",
    "\n",
    "        fixed_obj_bodies = self.objects_and_bodies(self.fixed_object_params)\n",
    "        for obj, body in fixed_obj_bodies.values():\n",
    "            space.add(body, obj)\n",
    "        return space\n",
    "    \n",
    "    def objects_and_bodies(self, object_params):\n",
    "        # note: we seem to need to return both the object and its body\n",
    "        # due to how pymunk works\n",
    "        objects_bodies = {}\n",
    "        for name, kind, params in object_params:\n",
    "            obj_body = getattr(self, kind)(**params)\n",
    "            objects_bodies[name] = obj_body\n",
    "        return objects_bodies\n",
    "    \n",
    "    def plot_scene(self):\n",
    "        fig, ax = plt.subplots()\n",
    "        ax.set_xlim(0, self.width)\n",
    "        ax.set_ylim(0, self.height)\n",
    "        ax.set_aspect('equal')\n",
    "        ax.xaxis.set_visible(False)\n",
    "        ax.yaxis.set_visible(False)\n",
    "        return self.plot_objects(self.fixed_object_params, ax=ax)\n",
    "    \n",
    "    def plot_objects(self, object_params, ax=None):\n",
    "        if ax is None:\n",
    "            ax = self.plot_scene()\n",
    "        objects_bodies = self.objects_and_bodies(object_params)\n",
    "        for obj, body in objects_bodies.values():\n",
    "            if isinstance(obj, pymunk.Circle):\n",
    "                ax.add_patch(plt.Circle(\n",
    "                    (obj.body.position.x, obj.body.position.y),\n",
    "                    radius=obj.radius,\n",
    "                    color='g' if obj.body.body_type == pymunk.Body.DYNAMIC else 'k',\n",
    "                ))\n",
    "            elif isinstance(obj, pymunk.Poly):\n",
    "                vertices = [body.position + v for v in obj.get_vertices()]\n",
    "                ax.add_patch(plt.Polygon(\n",
    "                    vertices,\n",
    "                    closed=True,\n",
    "                    color='g' if body.body_type == pymunk.Body.DYNAMIC else 'k',\n",
    "                ))\n",
    "        return ax\n",
    "    \n",
    "    def plot_traj(self, traj, object_params=(), ax=None):\n",
    "        if ax is None:\n",
    "            ax = self.plot_scene()\n",
    "        ax = self.plot_objects(object_params, ax=ax)\n",
    "        for obj_i, obj_traj in traj.items():\n",
    "            x, y = zip(*obj_traj)\n",
    "            ax.plot(x, y, 'g.', markersize=4, alpha=.4)\n",
    "            ax.plot(x[-1], y[-1], 'g*', markersize=15)\n",
    "        return ax\n",
    "    \n",
    "    def run_and_plot(self, timesteps=1000):\n",
    "        ax = self.plot_scene()\n",
    "        traj = self.run()\n",
    "        for obj_i, obj_traj in traj.items():\n",
    "            x, y = zip(*obj_traj)\n",
    "            ax.plot(x, y, 'g.', markersize=4, alpha=.4)\n",
    "            ax.plot(x[-1], y[-1], 'g*', markersize=15)\n",
    "        return ax"
   ]
  },
  {
   "cell_type": "code",
   "execution_count": 3,
   "id": "37cf717f",
   "metadata": {},
   "outputs": [
    {
     "name": "stdout",
     "output_type": "stream",
     "text": [
      "Final x (bin): 229\n"
     ]
    },
    {
     "data": {
      "image/png": "[encoded data removed]",
      "text/plain": [
       "<Figure size 640x480 with 1 Axes>"
      ]
     },
     "metadata": {},
     "output_type": "display_data"
    }
   ],
   "source": [
    "scene = Scene(\n",
    "    fixed_object_params=[\n",
    "        ('obstacle_1', 'circle', dict(x=150, y=400, radius=50, static=True)),\n",
    "        ('obstacle_2', 'circle', dict(x=350, y=200, radius=50, static=True)),\n",
    "        *[\n",
    "            (f'bin_{i}', 'box', dict(x=i, y=0, h=50, w=1, static=True))\n",
    "            for i in range(0, 550, 50)\n",
    "        ]\n",
    "    ],\n",
    "    height=600,\n",
    "    width=500\n",
    ")\n",
    "\n",
    "object_params = [\n",
    "    ('dropped', 'circle', dict(x=200, y=600, radius=20, static=False))\n",
    "]\n",
    "traj = scene.run(object_params)\n",
    "scene.plot_traj(traj, object_params=object_params)\n",
    "print(\"Final x (bin):\", int(traj[\"dropped\"][-1][0]))"
   ]
  },
  {
   "cell_type": "markdown",
   "id": "cfbd664e",
   "metadata": {},
   "source": [
    "## Inference with a physics engine"
   ]
  },
  {
   "cell_type": "code",
   "execution_count": 4,
   "id": "750996c9",
   "metadata": {},
   "outputs": [],
   "source": [
    "@infer(method=\"LikelihoodWeighting\", samples=1000)\n",
    "def model(final_x):\n",
    "    init_x = uniform()*500\n",
    "    init_obj =  (\"dropped\", \"circle\", frozendict(x=init_x, y=600, radius=20, static=False))\n",
    "    traj = scene.run([init_obj]) # this calls into the physics engine \n",
    "    final_x_ = traj['dropped'][-1][0]\n",
    "    condition(abs(final_x_ - final_x) < 10)\n",
    "    return init_obj"
   ]
  },
  {
   "cell_type": "code",
   "execution_count": 5,
   "id": "f3791ab4",
   "metadata": {},
   "outputs": [
    {
     "data": {
      "image/png": "[encoded data removed]",
      "text/plain": [
       "<Figure size 640x480 with 1 Axes>"
      ]
     },
     "metadata": {},
     "output_type": "display_data"
    }
   ],
   "source": [
    "dist = model(229)\n",
    "ax = scene.plot_scene()\n",
    "for _ in range(100):\n",
    "    init_obj = dist.sample()\n",
    "    traj = scene.run([init_obj])\n",
    "    scene.plot_traj(traj, ax=ax)"
   ]
  },
  {
   "cell_type": "code",
   "execution_count": null,
   "id": "6287550f",
   "metadata": {},
   "outputs": [],
   "source": []
  }
 ],
 "metadata": {
  "kernelspec": {
   "display_name": "flippy",
   "language": "python",
   "name": "python3"
  },
  "language_info": {
   "codemirror_mode": {
    "name": "ipython",
    "version": 3
   },
   "file_extension": ".py",
   "mimetype": "text/x-python",
   "name": "python",
   "nbconvert_exporter": "python",
   "pygments_lexer": "ipython3",
   "version": "3.12.11"
  },
  "title": "Intuitive Physics"
 },
 "nbformat": 4,
 "nbformat_minor": 5
}
